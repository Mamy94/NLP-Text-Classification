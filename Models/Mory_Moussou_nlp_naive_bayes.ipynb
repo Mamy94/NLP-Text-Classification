{
  "nbformat": 4,
  "nbformat_minor": 0,
  "metadata": {
    "kernelspec": {
      "display_name": "Python 3",
      "language": "python",
      "name": "python3"
    },
    "language_info": {
      "codemirror_mode": {
        "name": "ipython",
        "version": 3
      },
      "file_extension": ".py",
      "mimetype": "text/x-python",
      "name": "python",
      "nbconvert_exporter": "python",
      "pygments_lexer": "ipython3",
      "version": "3.6.2+"
    },
    "colab": {
      "name": "Mory_Moussou_nlp_naive_bayes.ipynb",
      "provenance": []
    }
  },
  "cells": [
    {
      "cell_type": "markdown",
      "metadata": {
        "id": "trGEvJ68p6nV"
      },
      "source": [
        "The goal of this lab is to implement a language identifier (LID).\n",
        "\n",
        "Our first model will be based on Naive Bayes."
      ]
    },
    {
      "cell_type": "code",
      "metadata": {
        "id": "NW87A1yzp6nc"
      },
      "source": [
        "import io, sys, math, re\n",
        "from collections import defaultdict"
      ],
      "execution_count": 1,
      "outputs": []
    },
    {
      "cell_type": "markdown",
      "metadata": {
        "id": "L7rAw8dIp6nd"
      },
      "source": [
        "The next function is used to load the data. Each line of the data consist of a label (corresponding to a language), followed by some text, written in that language. Here is an example of data:\n",
        "\n",
        "```__label__de Zur Namensdeutung gibt es mehrere Varianten.```\n"
      ]
    },
    {
      "cell_type": "code",
      "metadata": {
        "id": "wmxMOukAp6ne"
      },
      "source": [
        "def load_data(filename):\n",
        "    fin = io.open(filename, 'r', encoding='utf-8')\n",
        "    data = []\n",
        "    for line in fin:\n",
        "        tokens = line.split()\n",
        "        data.append((tokens[0], tokens[1:]))\n",
        "    return data"
      ],
      "execution_count": 2,
      "outputs": []
    },
    {
      "cell_type": "code",
      "metadata": {
        "colab": {
          "base_uri": "https://localhost:8080/"
        },
        "id": "yzCm0jsWrHOI",
        "outputId": "757bbf7f-a6c4-468b-a309-09ff6fa7e45d"
      },
      "source": [
        "from google.colab import drive\n",
        "drive.mount('/content/drive')"
      ],
      "execution_count": 3,
      "outputs": [
        {
          "output_type": "stream",
          "text": [
            "Mounted at /content/drive\n"
          ],
          "name": "stdout"
        }
      ]
    },
    {
      "cell_type": "markdown",
      "metadata": {
        "id": "K6fzh_pTp6ne"
      },
      "source": [
        "You can now try loading the first dataset `train1.txt` and look what examples look like."
      ]
    },
    {
      "cell_type": "code",
      "metadata": {
        "id": "-_yLt4Fqp6ne",
        "colab": {
          "base_uri": "https://localhost:8080/"
        },
        "outputId": "e70d4a83-5b09-4b2e-a7ae-11a7ede8e288"
      },
      "source": [
        "data = load_data(\"/content/drive/MyDrive/train1.txt\")\n",
        "print(data[0])"
      ],
      "execution_count": 5,
      "outputs": [
        {
          "output_type": "stream",
          "text": [
            "('__label__de', ['Ich', 'würde', 'alles', 'tun,', 'um', 'dich', 'zu', 'beschützen.'])\n"
          ],
          "name": "stdout"
        }
      ]
    },
    {
      "cell_type": "markdown",
      "metadata": {
        "id": "PB1IkaYCp6nf"
      },
      "source": [
        "Next, we will start implementing the Naive Bayes method. This technique is based on word counts, and we thus need to start by implementing a function to count the words and labels of our training set.\n",
        "\n",
        "`n_examples` is the total number of examples\n",
        "\n",
        "`n_words_per_label` is the total number of words for a given label\n",
        "\n",
        "`label_counts` is the number of times a given label appears in the training data\n",
        "\n",
        "`word_counts` is the number of times a word appears with a given label"
      ]
    },
    {
      "cell_type": "code",
      "metadata": {
        "id": "AKrtDNWrp6nf"
      },
      "source": [
        "def count_words(data):\n",
        "    n_examples = 0\n",
        "    n_words_per_label = defaultdict(lambda: 0)\n",
        "    label_counts = defaultdict(lambda: 0)\n",
        "    word_counts = defaultdict(lambda: defaultdict(lambda: 0.0))\n",
        "\n",
        "    for example in data:\n",
        "        label, sentence = example\n",
        "        ## FILL CODE\n",
        "        n_examples+=1\n",
        "        n_words_per_label[label]+=len(sentence)\n",
        "        label_counts[label]+=1\n",
        "        for word in sentence:\n",
        "          word_counts[label][word]+=1\n",
        "\n",
        "    return {'label_counts': label_counts, \n",
        "            'word_counts': word_counts, \n",
        "            'n_examples': n_examples, \n",
        "            'n_words_per_label': n_words_per_label}"
      ],
      "execution_count": 7,
      "outputs": []
    },
    {
      "cell_type": "markdown",
      "metadata": {
        "id": "rDBqERo9p6nf"
      },
      "source": [
        "Next, using the word and label counts from the previous function, we can implement the prediction function.\n",
        "\n",
        "Here, `mu` is a regularization parameter (Laplace smoothing), and `sentence` is the list of words corresponding to the test example."
      ]
    },
    {
      "cell_type": "code",
      "metadata": {
        "id": "sOaOTYaqp6ng"
      },
      "source": [
        "def predict(sentence, mu, label_counts, word_counts, n_examples, n_words_per_label):\n",
        "    best_label = None\n",
        "    best_score = float('-inf')\n",
        "\n",
        "    for label in word_counts.keys():\n",
        "        score = 0.0\n",
        "        ## FILE CODE\n",
        "        v=len(word_counts[label])\n",
        "        for word in sentence:\n",
        "          wc=word_counts[label][word] + mu\n",
        "          tc=n_words_per_label[label] + mu*v\n",
        "          score+=math.log(wc/tc)\n",
        "        score+=label_counts[label]/n_examples\n",
        "        if score>best_score:\n",
        "          best_score=score\n",
        "          best_label=label\n",
        "\n",
        "    return best_label"
      ],
      "execution_count": 24,
      "outputs": []
    },
    {
      "cell_type": "markdown",
      "metadata": {
        "id": "7510zNgLp6ng"
      },
      "source": [
        "The next function will be used to evaluate the Naive Bayes model on a validation set. It computes the accuracy for a particular regularization parameter `mu`."
      ]
    },
    {
      "cell_type": "code",
      "metadata": {
        "id": "gOBgclPxp6ng"
      },
      "source": [
        "def compute_accuracy(valid_data, mu, counts):\n",
        "    accuracy = 0.0\n",
        "    for label, sentence in valid_data:\n",
        "        ## FILL CODE\n",
        "        pred_label=predict(sentence, mu, **counts)\n",
        "        if label==pred_label:\n",
        "          accuracy+=1\n",
        "    return accuracy/len(valid_data)\n",
        "     \n",
        "   "
      ],
      "execution_count": 25,
      "outputs": []
    },
    {
      "cell_type": "code",
      "metadata": {
        "id": "AdaWKHC1p6nh",
        "colab": {
          "base_uri": "https://localhost:8080/"
        },
        "outputId": "0dcc3d89-f54d-4cbc-9c4c-56129e58f00a"
      },
      "source": [
        "print(\"\")\n",
        "print(\"** Naive Bayes **\")\n",
        "print(\"\")\n",
        "\n",
        "mu = 1.0\n",
        "train_data = load_data(\"/content/drive/MyDrive/train1.txt\")\n",
        "valid_data = load_data(\"/content/drive/MyDrive/valid1.txt\")\n",
        "counts = count_words(train_data)\n",
        "\n",
        "print(\"Validation accuracy: %.3f\" % compute_accuracy(valid_data, mu, counts))\n",
        "print(\"\")"
      ],
      "execution_count": 26,
      "outputs": [
        {
          "output_type": "stream",
          "text": [
            "\n",
            "** Naive Bayes **\n",
            "\n",
            "Validation accuracy: 0.915\n",
            "\n"
          ],
          "name": "stdout"
        }
      ]
    },
    {
      "cell_type": "code",
      "metadata": {
        "id": "U8AzlHQUp6nh"
      },
      "source": [
        ""
      ],
      "execution_count": null,
      "outputs": []
    }
  ]
}